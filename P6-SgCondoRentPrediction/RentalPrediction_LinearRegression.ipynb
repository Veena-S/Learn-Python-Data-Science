{
 "cells": [
  {
   "cell_type": "code",
   "execution_count": 4,
   "id": "comparable-fishing",
   "metadata": {},
   "outputs": [
    {
     "name": "stdout",
     "output_type": "stream",
     "text": [
      "Collecting seaborn\n",
      "  Downloading seaborn-0.11.1-py3-none-any.whl (285 kB)\n",
      "\u001b[K     |████████████████████████████████| 285 kB 1.2 MB/s eta 0:00:01\n",
      "\u001b[?25hRequirement already satisfied: matplotlib>=2.2 in /home/veenas/.local/lib/python3.8/site-packages (from seaborn) (3.3.4)\n",
      "Requirement already satisfied: numpy>=1.15 in /home/veenas/.local/lib/python3.8/site-packages (from seaborn) (1.20.1)\n",
      "Requirement already satisfied: pandas>=0.23 in /home/veenas/.local/lib/python3.8/site-packages (from seaborn) (1.2.3)\n",
      "Requirement already satisfied: scipy>=1.0 in /home/veenas/.local/lib/python3.8/site-packages (from seaborn) (1.6.1)\n",
      "Requirement already satisfied: cycler>=0.10 in /home/veenas/.local/lib/python3.8/site-packages (from matplotlib>=2.2->seaborn) (0.10.0)\n",
      "Requirement already satisfied: pillow>=6.2.0 in /home/veenas/.local/lib/python3.8/site-packages (from matplotlib>=2.2->seaborn) (8.1.2)\n",
      "Requirement already satisfied: python-dateutil>=2.1 in /home/veenas/.local/lib/python3.8/site-packages (from matplotlib>=2.2->seaborn) (2.8.1)\n",
      "Requirement already satisfied: pyparsing!=2.0.4,!=2.1.2,!=2.1.6,>=2.0.3 in /home/veenas/.local/lib/python3.8/site-packages (from matplotlib>=2.2->seaborn) (2.4.7)\n",
      "Requirement already satisfied: kiwisolver>=1.0.1 in /home/veenas/.local/lib/python3.8/site-packages (from matplotlib>=2.2->seaborn) (1.3.1)\n",
      "Requirement already satisfied: pytz>=2017.3 in /home/veenas/.local/lib/python3.8/site-packages (from pandas>=0.23->seaborn) (2021.1)\n",
      "Requirement already satisfied: six in /usr/lib/python3/dist-packages (from cycler>=0.10->matplotlib>=2.2->seaborn) (1.14.0)\n",
      "Installing collected packages: seaborn\n",
      "Successfully installed seaborn-0.11.1\n",
      "Note: you may need to restart the kernel to use updated packages.\n"
     ]
    }
   ],
   "source": [
    "%pip install seaborn"
   ]
  },
  {
   "cell_type": "code",
   "execution_count": 1,
   "id": "standing-police",
   "metadata": {},
   "outputs": [],
   "source": [
    "import pandas as pd\n",
    "import numpy as np\n",
    "import sklearn\n",
    "\n",
    "from sklearn import model_selection\n",
    "from sklearn import preprocessing # to normalize the data and to convert non-numeric values to numeric values\n",
    "#StandardScalre - Standardize features by removing the mean and scaling to unit variance\n",
    "# LabelEncoder - converts each string value into a number\n",
    "from sklearn.preprocessing import StandardScaler, LabelEncoder\n",
    "\n",
    "from sklearn import linear_model\n",
    "from sklearn.linear_model import LinearRegression\n",
    "from sklearn.model_selection import train_test_split, RandomizedSearchCV, GridSearchCV\n",
    "\n",
    "# metrics implements functions assessing prediction error for specific purposes.\n",
    "# includes score functions, performance metrics and pairwise metrics and distance computations.\n",
    "from sklearn import metrics\n",
    "from sklearn.utils import shuffle\n",
    "import matplotlib.pyplot as pyplot\n",
    "import pickle\n",
    "from matplotlib import style\n",
    "from collections import Counter\n",
    "import seaborn as sns\n",
    "\n",
    "\n",
    "# for computing\n",
    "from scipy.stats import uniform, randint\n",
    "# from statsmodels.stats.outliers_influence import variance_inflation_factor"
   ]
  },
  {
   "cell_type": "code",
   "execution_count": 2,
   "id": "convertible-saver",
   "metadata": {},
   "outputs": [
    {
     "name": "stdout",
     "output_type": "stream",
     "text": [
      "Index(['S/N', 'Building/Project Name', 'Street Name', 'Postal District',\n",
      "       'Type', 'No. of Bedroom(for Non-Landed Only)', 'Monthly Gross Rent($)',\n",
      "       'Floor Area (sq ft)', 'Lease Commencement Date'],\n",
      "      dtype='object')\n"
     ]
    }
   ],
   "source": [
    "complete_condo_data = pd.read_csv('Rental-Contracts-Non-Landed-Housing-Dev - removedNA.csv')\n",
    "# complete_condo_data.head()\n",
    "print(complete_condo_data.columns)"
   ]
  },
  {
   "cell_type": "code",
   "execution_count": 3,
   "id": "threaded-billy",
   "metadata": {},
   "outputs": [
    {
     "data": {
      "text/html": [
       "<div>\n",
       "<style scoped>\n",
       "    .dataframe tbody tr th:only-of-type {\n",
       "        vertical-align: middle;\n",
       "    }\n",
       "\n",
       "    .dataframe tbody tr th {\n",
       "        vertical-align: top;\n",
       "    }\n",
       "\n",
       "    .dataframe thead th {\n",
       "        text-align: right;\n",
       "    }\n",
       "</style>\n",
       "<table border=\"1\" class=\"dataframe\">\n",
       "  <thead>\n",
       "    <tr style=\"text-align: right;\">\n",
       "      <th></th>\n",
       "      <th>Building/Project Name</th>\n",
       "      <th>Street Name</th>\n",
       "      <th>Postal District</th>\n",
       "      <th>No. of Bedroom(for Non-Landed Only)</th>\n",
       "      <th>Monthly Gross Rent($)</th>\n",
       "      <th>Floor Area (sq ft)</th>\n",
       "      <th>Lease Commencement Date</th>\n",
       "    </tr>\n",
       "  </thead>\n",
       "  <tbody>\n",
       "    <tr>\n",
       "      <th>0</th>\n",
       "      <td>EMERALD PARK</td>\n",
       "      <td>INDUS ROAD</td>\n",
       "      <td>3</td>\n",
       "      <td>2</td>\n",
       "      <td>3200</td>\n",
       "      <td>900 to 1000</td>\n",
       "      <td>Feb-21</td>\n",
       "    </tr>\n",
       "    <tr>\n",
       "      <th>1</th>\n",
       "      <td>V ON SHENTON</td>\n",
       "      <td>SHENTON WAY</td>\n",
       "      <td>1</td>\n",
       "      <td>1</td>\n",
       "      <td>3700</td>\n",
       "      <td>700 to 800</td>\n",
       "      <td>Feb-21</td>\n",
       "    </tr>\n",
       "    <tr>\n",
       "      <th>2</th>\n",
       "      <td>MARINA BAY RESIDENCES</td>\n",
       "      <td>MARINA BOULEVARD</td>\n",
       "      <td>1</td>\n",
       "      <td>2</td>\n",
       "      <td>5850</td>\n",
       "      <td>1100 to 1200</td>\n",
       "      <td>Feb-21</td>\n",
       "    </tr>\n",
       "    <tr>\n",
       "      <th>3</th>\n",
       "      <td>THE TRILINQ</td>\n",
       "      <td>JALAN LEMPENG</td>\n",
       "      <td>5</td>\n",
       "      <td>1</td>\n",
       "      <td>2250</td>\n",
       "      <td>500 to 600</td>\n",
       "      <td>Feb-21</td>\n",
       "    </tr>\n",
       "    <tr>\n",
       "      <th>4</th>\n",
       "      <td>PEOPLE'S PARK COMPLEX</td>\n",
       "      <td>PARK ROAD</td>\n",
       "      <td>1</td>\n",
       "      <td>1</td>\n",
       "      <td>1800</td>\n",
       "      <td>400 to 500</td>\n",
       "      <td>Feb-21</td>\n",
       "    </tr>\n",
       "  </tbody>\n",
       "</table>\n",
       "</div>"
      ],
      "text/plain": [
       "   Building/Project Name       Street Name  Postal District  \\\n",
       "0           EMERALD PARK        INDUS ROAD                3   \n",
       "1           V ON SHENTON       SHENTON WAY                1   \n",
       "2  MARINA BAY RESIDENCES  MARINA BOULEVARD                1   \n",
       "3            THE TRILINQ     JALAN LEMPENG                5   \n",
       "4  PEOPLE'S PARK COMPLEX         PARK ROAD                1   \n",
       "\n",
       "   No. of Bedroom(for Non-Landed Only)  Monthly Gross Rent($)  \\\n",
       "0                                    2                   3200   \n",
       "1                                    1                   3700   \n",
       "2                                    2                   5850   \n",
       "3                                    1                   2250   \n",
       "4                                    1                   1800   \n",
       "\n",
       "  Floor Area (sq ft) Lease Commencement Date  \n",
       "0        900 to 1000                  Feb-21  \n",
       "1         700 to 800                  Feb-21  \n",
       "2       1100 to 1200                  Feb-21  \n",
       "3         500 to 600                  Feb-21  \n",
       "4         400 to 500                  Feb-21  "
      ]
     },
     "execution_count": 3,
     "metadata": {},
     "output_type": "execute_result"
    }
   ],
   "source": [
    "columns_to_drop = ['S/N', 'Type']\n",
    "valid_condo_data = complete_condo_data.drop(columns = columns_to_drop)\n",
    "valid_condo_data.head()"
   ]
  },
  {
   "cell_type": "code",
   "execution_count": 5,
   "id": "forty-satin",
   "metadata": {},
   "outputs": [
    {
     "name": "stdout",
     "output_type": "stream",
     "text": [
      "[ 482 1920  898 ...  251  209 1319]\n",
      "[231 599 441 ... 726  77 586]\n",
      "[27 25  1 ... 27 24 25]\n",
      "[19 19 19 ... 35 35 35]\n",
      "[ 2  0  0 ... 24 25 26]\n"
     ]
    },
    {
     "data": {
      "text/html": [
       "<div>\n",
       "<style scoped>\n",
       "    .dataframe tbody tr th:only-of-type {\n",
       "        vertical-align: middle;\n",
       "    }\n",
       "\n",
       "    .dataframe tbody tr th {\n",
       "        vertical-align: top;\n",
       "    }\n",
       "\n",
       "    .dataframe thead th {\n",
       "        text-align: right;\n",
       "    }\n",
       "</style>\n",
       "<table border=\"1\" class=\"dataframe\">\n",
       "  <thead>\n",
       "    <tr style=\"text-align: right;\">\n",
       "      <th></th>\n",
       "      <th>Building/Project Name</th>\n",
       "      <th>Street Name</th>\n",
       "      <th>Postal District</th>\n",
       "      <th>No. of Bedroom(for Non-Landed Only)</th>\n",
       "      <th>Monthly Gross Rent($)</th>\n",
       "      <th>Floor Area (sq ft)</th>\n",
       "      <th>Lease Commencement Date</th>\n",
       "    </tr>\n",
       "  </thead>\n",
       "  <tbody>\n",
       "    <tr>\n",
       "      <th>0</th>\n",
       "      <td>EMERALD PARK</td>\n",
       "      <td>INDUS ROAD</td>\n",
       "      <td>3</td>\n",
       "      <td>2</td>\n",
       "      <td>3200</td>\n",
       "      <td>900 to 1000</td>\n",
       "      <td>Feb-21</td>\n",
       "    </tr>\n",
       "    <tr>\n",
       "      <th>1</th>\n",
       "      <td>V ON SHENTON</td>\n",
       "      <td>SHENTON WAY</td>\n",
       "      <td>1</td>\n",
       "      <td>1</td>\n",
       "      <td>3700</td>\n",
       "      <td>700 to 800</td>\n",
       "      <td>Feb-21</td>\n",
       "    </tr>\n",
       "    <tr>\n",
       "      <th>2</th>\n",
       "      <td>MARINA BAY RESIDENCES</td>\n",
       "      <td>MARINA BOULEVARD</td>\n",
       "      <td>1</td>\n",
       "      <td>2</td>\n",
       "      <td>5850</td>\n",
       "      <td>1100 to 1200</td>\n",
       "      <td>Feb-21</td>\n",
       "    </tr>\n",
       "    <tr>\n",
       "      <th>3</th>\n",
       "      <td>THE TRILINQ</td>\n",
       "      <td>JALAN LEMPENG</td>\n",
       "      <td>5</td>\n",
       "      <td>1</td>\n",
       "      <td>2250</td>\n",
       "      <td>500 to 600</td>\n",
       "      <td>Feb-21</td>\n",
       "    </tr>\n",
       "    <tr>\n",
       "      <th>4</th>\n",
       "      <td>PEOPLE'S PARK COMPLEX</td>\n",
       "      <td>PARK ROAD</td>\n",
       "      <td>1</td>\n",
       "      <td>1</td>\n",
       "      <td>1800</td>\n",
       "      <td>400 to 500</td>\n",
       "      <td>Feb-21</td>\n",
       "    </tr>\n",
       "  </tbody>\n",
       "</table>\n",
       "</div>"
      ],
      "text/plain": [
       "   Building/Project Name       Street Name  Postal District  \\\n",
       "0           EMERALD PARK        INDUS ROAD                3   \n",
       "1           V ON SHENTON       SHENTON WAY                1   \n",
       "2  MARINA BAY RESIDENCES  MARINA BOULEVARD                1   \n",
       "3            THE TRILINQ     JALAN LEMPENG                5   \n",
       "4  PEOPLE'S PARK COMPLEX         PARK ROAD                1   \n",
       "\n",
       "   No. of Bedroom(for Non-Landed Only)  Monthly Gross Rent($)  \\\n",
       "0                                    2                   3200   \n",
       "1                                    1                   3700   \n",
       "2                                    2                   5850   \n",
       "3                                    1                   2250   \n",
       "4                                    1                   1800   \n",
       "\n",
       "  Floor Area (sq ft) Lease Commencement Date  \n",
       "0        900 to 1000                  Feb-21  \n",
       "1         700 to 800                  Feb-21  \n",
       "2       1100 to 1200                  Feb-21  \n",
       "3         500 to 600                  Feb-21  \n",
       "4         400 to 500                  Feb-21  "
      ]
     },
     "execution_count": 5,
     "metadata": {},
     "output_type": "execute_result"
    }
   ],
   "source": [
    "# Converting the non-numeric data to numeric\n",
    "# In order to train the K-Nearest Neighbor Classifier we must convert any string data into some kind of a number.\n",
    "#  sklearn has a method that can do this.\n",
    "\n",
    "# Start by creating a label encoder object and then use\n",
    "# that to encode each column of data into integers\n",
    "le = preprocessing.LabelEncoder()\n",
    "\n",
    "# The method fit_transform() takes a list (each of the columns) and will return an array containing new values.\n",
    "building_name = le.fit_transform(list(valid_condo_data[\"Building/Project Name\"]))\n",
    "street_name = le.fit_transform(list(valid_condo_data[\"Street Name\"]))\n",
    "postal_district = le.fit_transform(list(valid_condo_data[\"Postal District\"]))\n",
    "# property_type = le.fit_transform(list(valid_condo_data[\"Type\"]))\n",
    "floor_area = le.fit_transform(list(valid_condo_data[\"Floor Area (sq ft)\"]))\n",
    "lease_date = le.fit_transform(list(valid_condo_data[\"Lease Commencement Date\"]))\n",
    "# num_of_bedrooms = le.fit_transform(list(valid_condo_data[\"No. of Bedroom(for Non-Landed Only)\"]))\n",
    "# monthly_rent = le.fit_transform(list(valid_condo_data[\"Monthly Gross Rent($)\"]))\n",
    "num_of_bedrooms = (list(valid_condo_data[\"No. of Bedroom(for Non-Landed Only)\"]))\n",
    "monthly_rent = (list(valid_condo_data[\"Monthly Gross Rent($)\"]))\n",
    "\n",
    "# print(property_type)\n",
    "print(building_name)\n",
    "print(street_name)\n",
    "print(floor_area)\n",
    "print(lease_date)\n",
    "print(postal_district)\n",
    "#print(num_of_bedrooms)\n",
    "#print(monthly_rent)\n",
    "\n",
    "valid_condo_data.head()"
   ]
  },
  {
   "cell_type": "code",
   "execution_count": 9,
   "id": "casual-mitchell",
   "metadata": {},
   "outputs": [],
   "source": [
    "predict = \"Monthly Gross Rent($)\"\n",
    "\n",
    "# create a data set by excluding some of the columns\n",
    "# This is the input data\n",
    "# Recombine the data into a feature list and a label list\n",
    "# features\n",
    "\n",
    "# X = list(zip(property_type,building_name, street_name, floor_area, \n",
    "#              lease_date, postal_district, num_of_bedrooms, monthly_rent)) \n",
    "\n",
    "X = list(zip(building_name, street_name, floor_area, \n",
    "             lease_date, postal_district, num_of_bedrooms, monthly_rent)) \n",
    "# labels\n",
    "y = list(monthly_rent)"
   ]
  },
  {
   "cell_type": "code",
   "execution_count": 10,
   "id": "liable-intersection",
   "metadata": {},
   "outputs": [],
   "source": [
    "# # One-hot encoding of categorical variables, using pandas get_dummies\n",
    "# valid_condo_data_lr = valid_condo_data.copy()\n",
    "# valid_condo_data_lr = pd.get_dummies(valid_condo_data_lr, columns = ['Building/Project Name'], drop_first = True)\n",
    "# valid_condo_data_lr = pd.get_dummies(valid_condo_data_lr, columns = ['Street Name'], drop_first = True)\n",
    "# valid_condo_data_lr = pd.get_dummies(valid_condo_data_lr, columns = ['Floor Area (sq ft)'], drop_first = True)\n",
    "# valid_condo_data_lr.head()"
   ]
  },
  {
   "cell_type": "code",
   "execution_count": 11,
   "id": "diagnostic-offering",
   "metadata": {},
   "outputs": [],
   "source": [
    "# # Separate dependent(target or label) variable and independent (features) variables\n",
    "# # The target, also known as the label, is the value we want to predict and\n",
    "# # the features are all the columns the model uses to make a prediction. \n",
    "# target = 'Monthly Gross Rent($)'\n",
    "# X = valid_condo_data_lr.drop([target], axis = 1) # features\n",
    "# # Saving feature / cloumn names for later use\n",
    "# X_list = list(X.columns)\n",
    "# y = valid_condo_data_lr[target] # label\n",
    "# # print(X_list)\n",
    "# # print(y)"
   ]
  },
  {
   "cell_type": "code",
   "execution_count": 12,
   "id": "improving-standard",
   "metadata": {},
   "outputs": [],
   "source": [
    "# Finally we will split our data into training and testing data using the same process seen previously.\n",
    "# Perform train test split - Splits data into training and testing sets.\n",
    "# During training, let the model ‘see’ the answers, in this case the rent, so it can learn how to predict the rent from the features.\n",
    "# Expecting that there is some relationship between all the features and the target value, \n",
    "# and the model’s job is to learn this relationship during training.\n",
    "# Then, when it comes time to evaluate the model, we ask it to make predictions on a testing set where it only has access to the features \n",
    "X_train, X_test, y_train, y_test = train_test_split(X, y, test_size = 0.1)\n"
   ]
  },
  {
   "cell_type": "code",
   "execution_count": null,
   "id": "written-telephone",
   "metadata": {},
   "outputs": [],
   "source": []
  },
  {
   "cell_type": "code",
   "execution_count": 13,
   "id": "tired-feeling",
   "metadata": {},
   "outputs": [],
   "source": [
    "# X_train_original = X_train.copy()\n",
    "# X_test_original = X_test.copy()\n",
    "\n",
    "# # Carry out standardization on numerical columns\n",
    "# num_of_bedrooms = 'No. of Bedroom(for Non-Landed Only)'\n",
    "# postal_district = 'Postal District'\n",
    "# monthly_rent = 'Monthly Gross Rent($)'\n",
    "# scaler = StandardScaler() \n",
    "# numerical_cols = [num_of_bedrooms, postal_district]\n",
    "# # X_train[numerical_cols] = scaler.fit_transform(X_train[numerical_cols])\n",
    "# # X_test[numerical_cols] = scaler.fit_transform(X_test[numerical_cols])\n",
    "\n",
    "# X_train[numerical_cols] = scaler.fit_transform(X_train[numerical_cols])\n",
    "# X_test[numerical_cols] = scaler.fit_transform(X_test[numerical_cols])"
   ]
  },
  {
   "cell_type": "code",
   "execution_count": 14,
   "id": "temporal-easter",
   "metadata": {},
   "outputs": [],
   "source": [
    "# X_train.head()"
   ]
  },
  {
   "cell_type": "code",
   "execution_count": 15,
   "id": "extreme-guard",
   "metadata": {},
   "outputs": [],
   "source": [
    "\n",
    "\n",
    "# \"\"\"\n",
    "# # How to save a better version of model?\n",
    "# # Continue to keep save a model, by using a loop\n",
    "# # File generation needs to be done only once.\n",
    "#         # Once this is generated the above linear model and file saving can be deleted\n",
    "# best_accuracy = 0\n",
    "# for _ in range(30):\n",
    "#     # separate data into train and test data\n",
    "#     X_train, X_test, y_train, y_test = sklearn.model_selection.train_test_split(X, y, test_size=0.1)\n",
    "\n",
    "#     # print(X_train, 'X_train')    # print( X_test, 'X_test')    # print(y_train, 'y_train')    # print(y_test, 'y_test')\n",
    "\n",
    "#     linear = linear_model.LinearRegression()\n",
    "#     linear.fit(X_train, y_train)\n",
    "#     accuracy = linear.score(X_test, y_test)\n",
    "#     print('Accuracy', accuracy)\n",
    "    \n",
    "#     if accuracy > best_accuracy:\n",
    "#         best_accuracy = accuracy\n",
    "#         # Save the model using pickle\n",
    "#         # File generation needs to be done only once.\n",
    "#         # Once this is generated the above linear model and file saving can be deleted\n",
    "#         with open(\"RentModel.pickle\", \"wb\") as f:\n",
    "#             pickle.dump(linear, f)\n",
    "# \"\"\"\n",
    "    \n",
    "# # Read the pickle file\n",
    "# pickle_in = open(\"RentModel.pickle\", \"rb\")\n",
    "# # load that read model into linear model\n",
    "# linear = pickle.load(pickle_in)\n",
    "\n",
    "# print('Coefficient: ', linear.coef_)\n",
    "# print('Intercept: ', linear.intercept_)\n",
    "\n",
    "# predictions = linear.predict(X_test)\n",
    "\n",
    "# print('prediction', '\\t', '\\t','X_test', '\\t', '\\t','y_test' )\n",
    "# for index in range(len(predictions)):\n",
    "#     print('--------------------------------------------------------------------------------------------------')\n",
    "#     print(predictions[index], '\\t',  X_test[index], '\\t', y_test[index])\n",
    "\n",
    "# # for index in range(len(predictions)):\n",
    "# #     print('--------------------------------------------------------------------------------------------------')\n",
    "# #     print('prediction: ', predictions[index] )\n",
    "# #     print( 'X_test[Postal District]: ', X_test.iloc[index]['Postal District'])\n",
    "# #     print( 'X_test[No. of Bedroom]: ', X_test.iloc[index]['No. of Bedroom(for Non-Landed Only)'])\n",
    "# #     print( 'X_test[Monthly Gross Rent($)]: ', X_test.iloc[index]['Monthly Gross Rent($)'])\n",
    "# #     print( 'y_test', y_test.iloc[index])\n",
    "\n",
    "\n",
    "\n"
   ]
  },
  {
   "cell_type": "code",
   "execution_count": 21,
   "id": "later-folder",
   "metadata": {},
   "outputs": [],
   "source": [
    "# Instantiate a Linear Regression model\n",
    "linear_reg = LinearRegression()\n",
    "linear_reg.fit(X_train, y_train)\n",
    "y_pred_train = linear_reg.predict(X_train)\n",
    "y_pred_test = linear_reg.predict(X_test)\n"
   ]
  },
  {
   "cell_type": "code",
   "execution_count": 22,
   "id": "associate-struggle",
   "metadata": {},
   "outputs": [],
   "source": [
    "# # Plotting\n",
    "# #p = \"No. of Bedroom(for Non-Landed Only)\"\n",
    "# p = \"Postal District\"\n",
    "# style.use(\"ggplot\")\n",
    "# # Set up a scatter plot\n",
    "# pyplot.scatter(df[p], df[\"Monthly Gross Rent($)\"])\n",
    "# pyplot.xlabel(p)\n",
    "# pyplot.ylabel('Monthly Gross Rent($)')\n",
    "# pyplot.show()"
   ]
  },
  {
   "cell_type": "code",
   "execution_count": 23,
   "id": "informed-pennsylvania",
   "metadata": {},
   "outputs": [
    {
     "data": {
      "image/png": "[encoded data removed]",
      "text/plain": [
       "<Figure size 432x288 with 1 Axes>"
      ]
     },
     "metadata": {
      "needs_background": "light"
     },
     "output_type": "display_data"
    }
   ],
   "source": [
    "# Visualizing actual prices vs predicted values\n",
    "pyplot.scatter(y_train, y_pred_train)\n",
    "pyplot.xlabel(\"Actual Price\")\n",
    "pyplot.ylabel(\"Predicted Price\")\n",
    "pyplot.title(\"Actual Rental Price vs Predicted Rental Price\")\n",
    "pyplot.show()"
   ]
  },
  {
   "cell_type": "code",
   "execution_count": 24,
   "id": "atomic-boston",
   "metadata": {},
   "outputs": [
    {
     "data": {
      "image/png": "[encoded data removed]",
      "text/plain": [
       "<Figure size 432x288 with 1 Axes>"
      ]
     },
     "metadata": {},
     "output_type": "display_data"
    }
   ],
   "source": [
    "# Plotting\n",
    "#p = \"No. of Bedroom(for Non-Landed Only)\"\n",
    "p = \"Postal District\"\n",
    "style.use(\"ggplot\")\n",
    "# Set up a scatter plot\n",
    "pyplot.scatter(valid_condo_data[p], valid_condo_data[\"Monthly Gross Rent($)\"])\n",
    "pyplot.xlabel(p)\n",
    "pyplot.ylabel('Monthly Gross Rent($)')\n",
    "pyplot.show()"
   ]
  },
  {
   "cell_type": "code",
   "execution_count": 25,
   "id": "similar-march",
   "metadata": {},
   "outputs": [
    {
     "data": {
      "image/png": "[encoded data removed]",
      "text/plain": [
       "<Figure size 432x288 with 1 Axes>"
      ]
     },
     "metadata": {},
     "output_type": "display_data"
    }
   ],
   "source": [
    "# Plotting\n",
    "p = \"No. of Bedroom(for Non-Landed Only)\"\n",
    "style.use(\"ggplot\")\n",
    "# Set up a scatter plot\n",
    "pyplot.scatter(valid_condo_data[p], valid_condo_data[\"Monthly Gross Rent($)\"])\n",
    "pyplot.xlabel(p)\n",
    "pyplot.ylabel('Monthly Gross Rent($)')\n",
    "pyplot.show()"
   ]
  },
  {
   "cell_type": "code",
   "execution_count": 27,
   "id": "unauthorized-barrier",
   "metadata": {},
   "outputs": [
    {
     "data": {
      "image/png": "[encoded data removed]",
      "text/plain": [
       "<Figure size 432x288 with 1 Axes>"
      ]
     },
     "metadata": {},
     "output_type": "display_data"
    }
   ],
   "source": [
    "# Visualizing actual prices vs predicted values\n",
    "pyplot.scatter(y_test, y_pred_test)\n",
    "pyplot.xlabel(\"Actual Price\")\n",
    "pyplot.ylabel(\"Predicted Price\")\n",
    "pyplot.title(\"Actual Rental Price vs Predicted Rental Price\")\n",
    "pyplot.show()"
   ]
  },
  {
   "cell_type": "code",
   "execution_count": null,
   "id": "headed-guest",
   "metadata": {},
   "outputs": [],
   "source": []
  }
 ],
 "metadata": {
  "kernelspec": {
   "display_name": "Python 3",
   "language": "python",
   "name": "python3"
  },
  "language_info": {
   "codemirror_mode": {
    "name": "ipython",
    "version": 3
   },
   "file_extension": ".py",
   "mimetype": "text/x-python",
   "name": "python",
   "nbconvert_exporter": "python",
   "pygments_lexer": "ipython3",
   "version": "3.8.5"
  }
 },
 "nbformat": 4,
 "nbformat_minor": 5
}
