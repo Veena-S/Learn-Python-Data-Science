{
 "cells": [
  {
   "cell_type": "code",
   "execution_count": 1,
   "id": "standing-police",
   "metadata": {},
   "outputs": [],
   "source": [
    "import pandas as pd\n",
    "import numpy as np\n",
    "import sklearn\n",
    "from sklearn.utils import shuffle\n",
    "from sklearn import model_selection\n",
    "from sklearn import linear_model\n",
    "from sklearn import preprocessing # to normalize the data and to convert non-numeric values to numeric values\n",
    "from sklearn.neighbors import KNeighborsClassifier\n",
    "import matplotlib.pyplot as pyplot\n",
    "import pickle\n",
    "from matplotlib import style"
   ]
  },
  {
   "cell_type": "code",
   "execution_count": 4,
   "id": "convertible-saver",
   "metadata": {},
   "outputs": [
    {
     "data": {
      "text/plain": [
       "Index(['S/N', 'Building/Project Name', 'Street Name', 'Postal District',\n",
       "       'Type', 'No. of Bedroom(for Non-Landed Only)', 'Monthly Gross Rent($)',\n",
       "       'Floor Area (sq ft)', 'Lease Commencement Date'],\n",
       "      dtype='object')"
      ]
     },
     "execution_count": 4,
     "metadata": {},
     "output_type": "execute_result"
    }
   ],
   "source": [
    "df = pd.read_csv('Rental-Contracts-Non-Landed-Housing-Dev - removedNA.csv')\n",
    "# df.head()\n",
    "df.columns"
   ]
  },
  {
   "cell_type": "code",
   "execution_count": 3,
   "id": "average-brand",
   "metadata": {},
   "outputs": [],
   "source": [
    "# Converting the non-numeric data to numeric\n",
    "# In order to train the K-Nearest Neighbor Classifier we must convert any string data into some kind of a number.\n",
    "#  sklearn has a method that can do this.\n",
    "\n",
    "# Start by creating a label encoder object and then use\n",
    "# that to encode each column of data into integers\n",
    "le = preprocessing.LabelEncoder()\n",
    "\n",
    "# The method fit_transform() takes a list (each of the columns) and will return an array containing new values.\n",
    "property_type = le.fit_transform(list(df[\"Type\"]))\n",
    "building_name = le.fit_transform(list(df[\"Building/Project Name\"]))\n",
    "street_name = le.fit_transform(list(df[\"Street Name\"]))\n",
    "floor_area = le.fit_transform(list(df[\"Floor Area (sq ft)\"]))\n",
    "lease_date = le.fit_transform(list(df[\"Lease Commencement Date\"]))\n",
    "postal_district = le.fit_transform(list(df[\"Postal District\"]))\n",
    "num_of_bedrooms = le.fit_transform(list(df[\"No. of Bedroom(for Non-Landed Only)\"]))\n",
    "monthly_rent = le.fit_transform(list(df[\"Monthly Gross Rent($)\"]))\n",
    "\n",
    "\n",
    "# Recombine the data into a feature list and a label list\n",
    "# features\n",
    "X = list(zip(property_type, building_name, street_name, floor_area, \n",
    "             lease_date, postal_district, num_of_bedrooms)) \n",
    "# labels\n",
    "y = list(monthly_rent)\n",
    "\n",
    "# Finally we will split our data into training and testing data using the same process seen previously.\n",
    "X_train, X_test, y_train, y_test = sklearn.model_selection.train_test_split(X, y, test_size = 0.1)\n"
   ]
  },
  {
   "cell_type": "code",
   "execution_count": 21,
   "id": "extreme-guard",
   "metadata": {},
   "outputs": [
    {
     "name": "stdout",
     "output_type": "stream",
     "text": [
      "Coefficient:  [-5.58904568e-14  4.05120382e-13  1.00000000e+00]\n",
      "Intercept:  -9.094947017729282e-13\n"
     ]
    }
   ],
   "source": [
    "# create a data set by excluding some of the columns\n",
    "# This is the input data\n",
    "#X = df.drop(columns=[\"S/N\",\"Type\", \"Building/Project Name\", \"Street Name\", \"Monthly Gross Rent($)\", \"Floor Area (sq ft)\", \"Lease Commencement Date\"])\n",
    "X = df.drop(columns=[\"S/N\",\"Type\", \"Building/Project Name\", \"Street Name\", \"Floor Area (sq ft)\", \"Lease Commencement Date\"])\n",
    "#X.head()\n",
    "# Define output data\n",
    "y = df['Monthly Gross Rent($)']\n",
    "#y.head()\n",
    "\n",
    "# separate data into train and test data\n",
    "X_train, X_test, y_train, y_test = sklearn.model_selection.train_test_split(X, y, test_size=0.1)\n",
    "\n",
    "\n",
    "\"\"\"\n",
    "# How to save a better version of model?\n",
    "# Continue to keep save a model, by using a loop\n",
    "# File generation needs to be done only once.\n",
    "        # Once this is generated the above linear model and file saving can be deleted\n",
    "best_accuracy = 0\n",
    "for _ in range(30):\n",
    "    # separate data into train and test data\n",
    "    X_train, X_test, y_train, y_test = sklearn.model_selection.train_test_split(X, y, test_size=0.1)\n",
    "\n",
    "    # print(X_train, 'X_train')    # print( X_test, 'X_test')    # print(y_train, 'y_train')    # print(y_test, 'y_test')\n",
    "\n",
    "    linear = linear_model.LinearRegression()\n",
    "    linear.fit(X_train, y_train)\n",
    "    accuracy = linear.score(X_test, y_test)\n",
    "    print('Accuracy', accuracy)\n",
    "    \n",
    "    if accuracy > best_accuracy:\n",
    "        best_accuracy = accuracy\n",
    "        # Save the model using pickle\n",
    "        # File generation needs to be done only once.\n",
    "        # Once this is generated the above linear model and file saving can be deleted\n",
    "        with open(\"RentModel.pickle\", \"wb\") as f:\n",
    "            pickle.dump(linear, f)\n",
    "\"\"\"\n",
    "    \n",
    "# Read the pickle file\n",
    "pickle_in = open(\"RentModel.pickle\", \"rb\")\n",
    "# load that read model into linear model\n",
    "linear = pickle.load(pickle_in)\n",
    "\n",
    "print('Coefficient: ', linear.coef_)\n",
    "print('Intercept: ', linear.intercept_)\n",
    "\n",
    "predictions = linear.predict(X_test)\n",
    "\n",
    "# print(predictions, 'predictions')\n",
    "# print(X_test, 'X_test')\n",
    "# print(X_test.iloc[0], 'X_test.iloc')\n",
    "\n",
    "# for index in range(len(predictions)):\n",
    "#     print('--------------------------------------------------------------------------------------------------')\n",
    "#     print('prediction: ', predictions[index] )\n",
    "#     print( 'X_test[Postal District]: ', X_test.iloc[index]['Postal District'])\n",
    "#     print( 'X_test[No. of Bedroom]: ', X_test.iloc[index]['No. of Bedroom(for Non-Landed Only)'])\n",
    "#     print( 'X_test[Monthly Gross Rent($)]: ', X_test.iloc[index]['Monthly Gross Rent($)'])\n",
    "#     print( 'y_test', y_test.iloc[index])\n",
    "\n",
    "\n",
    "\n"
   ]
  },
  {
   "cell_type": "code",
   "execution_count": 24,
   "id": "associate-struggle",
   "metadata": {},
   "outputs": [
    {
     "data": {
      "image/png": "[encoded data removed]",
      "text/plain": [
       "<Figure size 432x288 with 1 Axes>"
      ]
     },
     "metadata": {},
     "output_type": "display_data"
    }
   ],
   "source": [
    "# Plotting\n",
    "#p = \"No. of Bedroom(for Non-Landed Only)\"\n",
    "p = \"Postal District\"\n",
    "style.use(\"ggplot\")\n",
    "# Set up a scatter plot\n",
    "pyplot.scatter(df[p], df[\"Monthly Gross Rent($)\"])\n",
    "pyplot.xlabel(p)\n",
    "pyplot.ylabel('Monthly Gross Rent($)')\n",
    "pyplot.show()"
   ]
  },
  {
   "cell_type": "code",
   "execution_count": null,
   "id": "informed-pennsylvania",
   "metadata": {},
   "outputs": [],
   "source": []
  }
 ],
 "metadata": {
  "kernelspec": {
   "display_name": "Python 3",
   "language": "python",
   "name": "python3"
  },
  "language_info": {
   "codemirror_mode": {
    "name": "ipython",
    "version": 3
   },
   "file_extension": ".py",
   "mimetype": "text/x-python",
   "name": "python",
   "nbconvert_exporter": "python",
   "pygments_lexer": "ipython3",
   "version": "3.8.5"
  }
 },
 "nbformat": 4,
 "nbformat_minor": 5
}
