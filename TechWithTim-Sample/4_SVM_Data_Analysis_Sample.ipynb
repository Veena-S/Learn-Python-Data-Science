{
 "cells": [
  {
   "cell_type": "code",
   "execution_count": null,
   "id": "expensive-wagon",
   "metadata": {},
   "outputs": [],
   "source": [
    "# SVM = Support Vector Machines\n",
    "# SVM's are typically used for CLASSIFICATION of tasks similar to what we did with K Nearest Neighbors. \n",
    "# They work very well for high dimensional data and allow us to classify data that does not have a linear correspondence.\n",
    "# K-Nearest Neighbors does not perform well on high-dimensional data.\n",
    "\n",
    "# https://www.techwithtim.net/tutorials/machine-learning-python/svm-1/\n"
   ]
  },
  {
   "cell_type": "code",
   "execution_count": 20,
   "id": "suspended-prescription",
   "metadata": {},
   "outputs": [],
   "source": [
    "import sklearn\n",
    "from sklearn import datasets\n",
    "from sklearn import svm\n",
    "# to score the data\n",
    "from sklearn import metrics\n",
    "from sklearn.neighbors import KNeighborsClassifier\n"
   ]
  },
  {
   "cell_type": "code",
   "execution_count": 21,
   "id": "subtle-disney",
   "metadata": {},
   "outputs": [],
   "source": [
    "\n",
    "cancer = datasets.load_breast_cancer()\n",
    "\n",
    "# print(cancer.feature_names)\n",
    "# print(cancer.target_names)\n",
    "\n",
    "x = cancer.data\n",
    "y = cancer.target\n",
    "\n",
    "x_train, x_test, y_train, y_test = sklearn.model_selection.train_test_split(x, y, test_size=0.2)\n",
    "\n",
    "#print(x_train, y_train)"
   ]
  },
  {
   "cell_type": "code",
   "execution_count": 24,
   "id": "exempt-feature",
   "metadata": {},
   "outputs": [
    {
     "data": {
      "text/plain": [
       "SVC(C=2, kernel='linear')"
      ]
     },
     "execution_count": 24,
     "metadata": {},
     "output_type": "execute_result"
    }
   ],
   "source": [
    "#simply create a new model and call .fit() on our training data.\n",
    "# Kernels provide a way for us to create a hyper-plane for data like seen above. \n",
    "# A kernel is simply a function that takes as input our features (x1, x2 in our example) \n",
    "# and returns a value equal to the third dimensional coordinate\n",
    "\n",
    "# clf = svm.SVC()\n",
    "#clf = svm.SVC(kernel=\"linear\")\n",
    "\n",
    "# Change the margin of the kernel\n",
    "# By default our kernel has a soft margin of value 1. This parameter is known as C.\n",
    "# We can increase C to give more of a soft margin, we can also decrease it to 0 to make a hard margin.\n",
    "\n",
    "clf = svm.SVC(kernel=\"linear\", C=2)\n",
    "\n",
    "# for comparison with KNN\n",
    "#clf = KNeighborsClassifier(n_neighbors=11)\n",
    "\n",
    "clf.fit(x_train, y_train)"
   ]
  },
  {
   "cell_type": "code",
   "execution_count": 25,
   "id": "electric-bristol",
   "metadata": {},
   "outputs": [
    {
     "name": "stdout",
     "output_type": "stream",
     "text": [
      "0.9912280701754386\n"
     ]
    }
   ],
   "source": [
    "y_pred = clf.predict(x_test) # Predict values for our test data\n",
    "\n",
    "acc = metrics.accuracy_score(y_test, y_pred) # Test them against our correct values\n",
    "print(acc)"
   ]
  },
  {
   "cell_type": "code",
   "execution_count": null,
   "id": "dressed-enemy",
   "metadata": {},
   "outputs": [],
   "source": []
  }
 ],
 "metadata": {
  "kernelspec": {
   "display_name": "Python 3",
   "language": "python",
   "name": "python3"
  },
  "language_info": {
   "codemirror_mode": {
    "name": "ipython",
    "version": 3
   },
   "file_extension": ".py",
   "mimetype": "text/x-python",
   "name": "python",
   "nbconvert_exporter": "python",
   "pygments_lexer": "ipython3",
   "version": "3.8.5"
  }
 },
 "nbformat": 4,
 "nbformat_minor": 5
}
