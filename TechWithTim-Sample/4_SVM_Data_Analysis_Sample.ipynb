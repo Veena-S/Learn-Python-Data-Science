{
 "cells": [
  {
   "cell_type": "code",
   "execution_count": null,
   "id": "expensive-wagon",
   "metadata": {},
   "outputs": [],
   "source": [
    "# SVM = Support Vector Machines\n",
    "# SVM's are typically used for CLASSIFICATION of tasks similar to what we did with K Nearest Neighbors. \n",
    "# They work very well for high dimensional data and allow us to classify data that does not have a linear correspondence.\n",
    "# K-Nearest Neighbors does not perform well on high-dimensional data.\n",
    "\n",
    "# https://www.techwithtim.net/tutorials/machine-learning-python/svm-1/\n"
   ]
  },
  {
   "cell_type": "code",
   "execution_count": 2,
   "id": "suspended-prescription",
   "metadata": {},
   "outputs": [],
   "source": [
    "import sklearn\n",
    "from sklearn import datasets\n",
    "from sklearn import svm\n"
   ]
  },
  {
   "cell_type": "code",
   "execution_count": null,
   "id": "subtle-disney",
   "metadata": {},
   "outputs": [],
   "source": [
    "\n",
    "cancer = datasets.load_breast_cancer()\n",
    "\n",
    "print(cancer.feature_names)\n",
    "print(cancer.target_names)\n",
    "\n",
    "x = cancer.data\n",
    "y = cancer.target\n",
    "\n",
    "x_train, x_test, y_train, y_test = sklearn.model_selection.train_test_split(x, y, test_size=0.2)\n",
    "\n",
    "print(x_train, y_train)"
   ]
  }
 ],
 "metadata": {
  "kernelspec": {
   "display_name": "Python 3",
   "language": "python",
   "name": "python3"
  },
  "language_info": {
   "codemirror_mode": {
    "name": "ipython",
    "version": 3
   },
   "file_extension": ".py",
   "mimetype": "text/x-python",
   "name": "python",
   "nbconvert_exporter": "python",
   "pygments_lexer": "ipython3",
   "version": "3.8.5"
  }
 },
 "nbformat": 4,
 "nbformat_minor": 5
}
