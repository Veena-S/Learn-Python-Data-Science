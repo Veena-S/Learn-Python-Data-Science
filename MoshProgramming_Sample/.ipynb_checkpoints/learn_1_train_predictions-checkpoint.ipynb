{
 "cells": [
  {
   "cell_type": "code",
   "execution_count": 4,
   "id": "dressed-meeting",
   "metadata": {},
   "outputs": [
    {
     "data": {
      "text/html": [
       "<div>\n",
       "<style scoped>\n",
       "    .dataframe tbody tr th:only-of-type {\n",
       "        vertical-align: middle;\n",
       "    }\n",
       "\n",
       "    .dataframe tbody tr th {\n",
       "        vertical-align: top;\n",
       "    }\n",
       "\n",
       "    .dataframe thead th {\n",
       "        text-align: right;\n",
       "    }\n",
       "</style>\n",
       "<table border=\"1\" class=\"dataframe\">\n",
       "  <thead>\n",
       "    <tr style=\"text-align: right;\">\n",
       "      <th></th>\n",
       "      <th>S/N</th>\n",
       "      <th>Building/Project Name</th>\n",
       "      <th>Street Name</th>\n",
       "      <th>Postal District</th>\n",
       "      <th>Type</th>\n",
       "      <th>No. of Bedroom(for Non-Landed Only)</th>\n",
       "      <th>Monthly Gross Rent($)</th>\n",
       "      <th>Floor Area (sq ft)</th>\n",
       "      <th>Lease Commencement Date</th>\n",
       "    </tr>\n",
       "  </thead>\n",
       "  <tbody>\n",
       "    <tr>\n",
       "      <th>0</th>\n",
       "      <td>1</td>\n",
       "      <td>EASTPOINT GREEN</td>\n",
       "      <td>SIMEI STREET 3</td>\n",
       "      <td>18</td>\n",
       "      <td>Non-landed Properties</td>\n",
       "      <td>2</td>\n",
       "      <td>2600</td>\n",
       "      <td>900 to 1000</td>\n",
       "      <td>Feb-2021</td>\n",
       "    </tr>\n",
       "    <tr>\n",
       "      <th>1</th>\n",
       "      <td>2</td>\n",
       "      <td>EASTPOINT GREEN</td>\n",
       "      <td>SIMEI STREET 3</td>\n",
       "      <td>18</td>\n",
       "      <td>Non-landed Properties</td>\n",
       "      <td>3</td>\n",
       "      <td>2800</td>\n",
       "      <td>1100 to 1200</td>\n",
       "      <td>Feb-2021</td>\n",
       "    </tr>\n",
       "    <tr>\n",
       "      <th>2</th>\n",
       "      <td>3</td>\n",
       "      <td>EASTPOINT GREEN</td>\n",
       "      <td>SIMEI STREET 3</td>\n",
       "      <td>18</td>\n",
       "      <td>Non-landed Properties</td>\n",
       "      <td>3</td>\n",
       "      <td>2900</td>\n",
       "      <td>1100 to 1200</td>\n",
       "      <td>Feb-2021</td>\n",
       "    </tr>\n",
       "    <tr>\n",
       "      <th>3</th>\n",
       "      <td>4</td>\n",
       "      <td>EASTPOINT GREEN</td>\n",
       "      <td>SIMEI STREET 3</td>\n",
       "      <td>18</td>\n",
       "      <td>Non-landed Properties</td>\n",
       "      <td>2</td>\n",
       "      <td>2500</td>\n",
       "      <td>900 to 1000</td>\n",
       "      <td>Feb-2021</td>\n",
       "    </tr>\n",
       "    <tr>\n",
       "      <th>4</th>\n",
       "      <td>5</td>\n",
       "      <td>EASTPOINT GREEN</td>\n",
       "      <td>SIMEI STREET 3</td>\n",
       "      <td>18</td>\n",
       "      <td>Non-landed Properties</td>\n",
       "      <td>3</td>\n",
       "      <td>2575</td>\n",
       "      <td>1100 to 1200</td>\n",
       "      <td>Feb-2021</td>\n",
       "    </tr>\n",
       "  </tbody>\n",
       "</table>\n",
       "</div>"
      ],
      "text/plain": [
       "   S/N Building/Project Name     Street Name  Postal District  \\\n",
       "0    1       EASTPOINT GREEN  SIMEI STREET 3               18   \n",
       "1    2       EASTPOINT GREEN  SIMEI STREET 3               18   \n",
       "2    3       EASTPOINT GREEN  SIMEI STREET 3               18   \n",
       "3    4       EASTPOINT GREEN  SIMEI STREET 3               18   \n",
       "4    5       EASTPOINT GREEN  SIMEI STREET 3               18   \n",
       "\n",
       "                    Type  No. of Bedroom(for Non-Landed Only)  \\\n",
       "0  Non-landed Properties                                    2   \n",
       "1  Non-landed Properties                                    3   \n",
       "2  Non-landed Properties                                    3   \n",
       "3  Non-landed Properties                                    2   \n",
       "4  Non-landed Properties                                    3   \n",
       "\n",
       "   Monthly Gross Rent($) Floor Area (sq ft) Lease Commencement Date  \n",
       "0                   2600        900 to 1000                Feb-2021  \n",
       "1                   2800       1100 to 1200                Feb-2021  \n",
       "2                   2900       1100 to 1200                Feb-2021  \n",
       "3                   2500        900 to 1000                Feb-2021  \n",
       "4                   2575       1100 to 1200                Feb-2021  "
      ]
     },
     "execution_count": 4,
     "metadata": {},
     "output_type": "execute_result"
    }
   ],
   "source": [
    "import pandas as pd\n",
    "from sklearn.tree import DecisionTreeClassifier #algorithm to be used for classification\n",
    "from sklearn.model_selection import train_test_split # to split the data between train data and test data\n",
    "from sklearn.metrics import accuracy_score\n",
    "\n",
    "# create data frame from the csv datafile\n",
    "df = pd.read_csv('EastpointGreenData.csv')\n",
    "df.head() # to see only the initial head set of data\n",
    "# df\n",
    "# df.shape # returns (rows, columns)\n"
   ]
  },
  {
   "cell_type": "code",
   "execution_count": 6,
   "id": "brazilian-eagle",
   "metadata": {},
   "outputs": [],
   "source": [
    "# The describe method will give you a base analysis for all numerical data & only numerical data\n",
    "#df.describe()\n",
    "# \n",
    "#df.values"
   ]
  },
  {
   "cell_type": "code",
   "execution_count": 34,
   "id": "conservative-ranch",
   "metadata": {},
   "outputs": [
    {
     "data": {
      "text/plain": [
       "0.18604651162790697"
      ]
     },
     "execution_count": 34,
     "metadata": {},
     "output_type": "execute_result"
    }
   ],
   "source": [
    "# create a data set by excluding some of the columns\n",
    "# This is the input data\n",
    "X = df.drop(columns=[\"S/N\",\"Type\", \"Building/Project Name\", \"Street Name\", \"Monthly Gross Rent($)\", \"Floor Area (sq ft)\", \"Lease Commencement Date\"])\n",
    "X.head()\n",
    "# Define output data\n",
    "y = df['Monthly Gross Rent($)']\n",
    "y.head()\n",
    "# separate data into train and test data\n",
    "X_train, X_test, y_train, y_test = train_test_split(X, y, test_size=0.1)\n",
    "\n",
    "model = DecisionTreeClassifier()\n",
    "# model.fit(X, y) #will not work with Strings\n",
    "# pass the trained data set\n",
    "model.fit(X_train, y_train)\n",
    "# predictions = model.predict([[18, 2]])\n",
    "predictions = model.predict(X_test)\n",
    "predictions\n",
    "# to compare the accuracy\n",
    "score = accuracy_score(y_test, predictions)\n",
    "score"
   ]
  },
  {
   "cell_type": "code",
   "execution_count": 9,
   "id": "conceptual-sphere",
   "metadata": {
    "scrolled": true
   },
   "outputs": [],
   "source": [
    "# Define an input set and output set"
   ]
  }
 ],
 "metadata": {
  "kernelspec": {
   "display_name": "Python 3",
   "language": "python",
   "name": "python3"
  },
  "language_info": {
   "codemirror_mode": {
    "name": "ipython",
    "version": 3
   },
   "file_extension": ".py",
   "mimetype": "text/x-python",
   "name": "python",
   "nbconvert_exporter": "python",
   "pygments_lexer": "ipython3",
   "version": "3.8.5"
  }
 },
 "nbformat": 4,
 "nbformat_minor": 5
}
